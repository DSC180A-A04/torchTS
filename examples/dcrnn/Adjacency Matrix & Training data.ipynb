{
 "cells": [
  {
   "cell_type": "markdown",
   "metadata": {},
   "source": [
    "# Description\n",
    "\n",
    "<p> This notebook describes how to generate training data to train a Diffusion Convolutional Recurrent Neural Network.\n",
    "DCRNN expects the graph to be represented as an adjacency matrix, with the values representing closeness or connectedness between the nodes.\n",
    "Additionally, since the nature of the data is spatio-temporal, we also expect a time series of values at every node. \n",
    "Below we see how to generate data to train DCRNN from the above mentioned sources. \n",
    "</p>"
   ]
  },
  {
   "cell_type": "markdown",
   "metadata": {},
   "source": [
    "## What should the adjacency matrix represent? \n",
    "\n",
    "The adjacency matrix could be thought of as the kernel in Machine Learning, with each value corresponding to a distance metric. \n",
    "\n",
    "For eg., in the traffic data below, the values in the adjacency matrix represent actual distances between 2 road sensors."
   ]
  },
  {
   "cell_type": "code",
   "execution_count": 17,
   "metadata": {},
   "outputs": [
    {
     "name": "stdout",
     "output_type": "stream",
     "text": [
      "Shape of adjacency matrix\n",
      "(325, 325)\n"
     ]
    }
   ],
   "source": [
    "import pickle\n",
    "\n",
    "graph = pickle.load(open('DCRNN_PyTorch/data/sensor_graph/adj_mx_bay.pkl','rb'),encoding= 'latin1')\n",
    "\n",
    "print(\"Shape of adjacency matrix\")\n",
    "print(graph[2].shape)"
   ]
  },
  {
   "cell_type": "markdown",
   "metadata": {},
   "source": [
    "Thus this particular graph consists of 325 sensors."
   ]
  },
  {
   "cell_type": "code",
   "execution_count": 18,
   "metadata": {},
   "outputs": [],
   "source": [
    "# Since traffic data is huge the input data format is an hdf file. \n",
    "# Other popular formats like .csv,.jsons should be a good place to start. \n",
    "\n",
    "import pandas as pd\n",
    "\n",
    "hdf=pd.HDFStore('~/Downloads/pems-bay.h5')\n",
    "df = hdf['speed']"
   ]
  },
  {
   "cell_type": "code",
   "execution_count": 19,
   "metadata": {
    "scrolled": true
   },
   "outputs": [
    {
     "data": {
      "text/plain": [
       "(52116, 325)"
      ]
     },
     "execution_count": 19,
     "metadata": {},
     "output_type": "execute_result"
    }
   ],
   "source": [
    "df.shape"
   ]
  },
  {
   "cell_type": "markdown",
   "metadata": {},
   "source": [
    "## Dataset Description\n",
    "\n",
    "<p>\n",
    "    \n",
    "The Caltrans Freeway Performance Measurement System (PeMS) standard rollup provides a variety of measurements (number of vehicles, average speed, etc.) for both individual lanes and across all lanes in five-minute intervals aggregated from the raw 30-second intervals. \n",
    "\n",
    "For the purposes of this task we use 6 months worth of data scraped from the Caltrans website and focussed on the San Francisco Bay Area to predict traffic speeds upto 1 hour in the future effectively. The Bay Area road network has 325 traffic sensors as of the year 2017 and the traffic speeds at each of these sensors can be seen at 5 minute intervals. \n",
    "\n",
    "**Link from which data was acquired:** <br>\n",
    "http://pems.dot.ca.gov/?dnode=Clearinghouse\n",
    "\n",
    "</p>"
   ]
  },
  {
   "cell_type": "code",
   "execution_count": 20,
   "metadata": {},
   "outputs": [
    {
     "data": {
      "text/html": [
       "<div>\n",
       "<style scoped>\n",
       "    .dataframe tbody tr th:only-of-type {\n",
       "        vertical-align: middle;\n",
       "    }\n",
       "\n",
       "    .dataframe tbody tr th {\n",
       "        vertical-align: top;\n",
       "    }\n",
       "\n",
       "    .dataframe thead th {\n",
       "        text-align: right;\n",
       "    }\n",
       "</style>\n",
       "<table border=\"1\" class=\"dataframe\">\n",
       "  <thead>\n",
       "    <tr style=\"text-align: right;\">\n",
       "      <th>sensor_id</th>\n",
       "      <th>400001</th>\n",
       "      <th>400017</th>\n",
       "      <th>400030</th>\n",
       "      <th>400040</th>\n",
       "      <th>400045</th>\n",
       "      <th>400052</th>\n",
       "      <th>400057</th>\n",
       "      <th>400059</th>\n",
       "      <th>400065</th>\n",
       "      <th>400069</th>\n",
       "      <th>...</th>\n",
       "      <th>409525</th>\n",
       "      <th>409526</th>\n",
       "      <th>409528</th>\n",
       "      <th>409529</th>\n",
       "      <th>413026</th>\n",
       "      <th>413845</th>\n",
       "      <th>413877</th>\n",
       "      <th>413878</th>\n",
       "      <th>414284</th>\n",
       "      <th>414694</th>\n",
       "    </tr>\n",
       "  </thead>\n",
       "  <tbody>\n",
       "    <tr>\n",
       "      <th>2017-01-01 00:00:00</th>\n",
       "      <td>71.4</td>\n",
       "      <td>67.8</td>\n",
       "      <td>70.5</td>\n",
       "      <td>67.4</td>\n",
       "      <td>68.8</td>\n",
       "      <td>66.6</td>\n",
       "      <td>66.8</td>\n",
       "      <td>68.0</td>\n",
       "      <td>66.8</td>\n",
       "      <td>69.0</td>\n",
       "      <td>...</td>\n",
       "      <td>68.8</td>\n",
       "      <td>67.9</td>\n",
       "      <td>68.8</td>\n",
       "      <td>68.0</td>\n",
       "      <td>69.2</td>\n",
       "      <td>68.9</td>\n",
       "      <td>70.4</td>\n",
       "      <td>68.8</td>\n",
       "      <td>71.1</td>\n",
       "      <td>68.0</td>\n",
       "    </tr>\n",
       "    <tr>\n",
       "      <th>2017-01-01 00:05:00</th>\n",
       "      <td>71.6</td>\n",
       "      <td>67.5</td>\n",
       "      <td>70.6</td>\n",
       "      <td>67.5</td>\n",
       "      <td>68.7</td>\n",
       "      <td>66.6</td>\n",
       "      <td>66.8</td>\n",
       "      <td>67.8</td>\n",
       "      <td>66.5</td>\n",
       "      <td>68.2</td>\n",
       "      <td>...</td>\n",
       "      <td>68.4</td>\n",
       "      <td>67.3</td>\n",
       "      <td>68.4</td>\n",
       "      <td>67.6</td>\n",
       "      <td>70.4</td>\n",
       "      <td>68.8</td>\n",
       "      <td>70.1</td>\n",
       "      <td>68.4</td>\n",
       "      <td>70.8</td>\n",
       "      <td>67.4</td>\n",
       "    </tr>\n",
       "  </tbody>\n",
       "</table>\n",
       "<p>2 rows × 325 columns</p>\n",
       "</div>"
      ],
      "text/plain": [
       "sensor_id            400001  400017  400030  400040  400045  400052  400057  \\\n",
       "2017-01-01 00:00:00    71.4    67.8    70.5    67.4    68.8    66.6    66.8   \n",
       "2017-01-01 00:05:00    71.6    67.5    70.6    67.5    68.7    66.6    66.8   \n",
       "\n",
       "sensor_id            400059  400065  400069  ...  409525  409526  409528  \\\n",
       "2017-01-01 00:00:00    68.0    66.8    69.0  ...    68.8    67.9    68.8   \n",
       "2017-01-01 00:05:00    67.8    66.5    68.2  ...    68.4    67.3    68.4   \n",
       "\n",
       "sensor_id            409529  413026  413845  413877  413878  414284  414694  \n",
       "2017-01-01 00:00:00    68.0    69.2    68.9    70.4    68.8    71.1    68.0  \n",
       "2017-01-01 00:05:00    67.6    70.4    68.8    70.1    68.4    70.8    67.4  \n",
       "\n",
       "[2 rows x 325 columns]"
      ]
     },
     "execution_count": 20,
     "metadata": {},
     "output_type": "execute_result"
    }
   ],
   "source": [
    "df.head(2)"
   ]
  },
  {
   "cell_type": "markdown",
   "metadata": {},
   "source": [
    "Here we can see a time series for every node with 52116 values at 5 minute intervals."
   ]
  },
  {
   "cell_type": "markdown",
   "metadata": {},
   "source": [
    "## Data cleaning - handling missing values"
   ]
  },
  {
   "cell_type": "code",
   "execution_count": 21,
   "metadata": {},
   "outputs": [
    {
     "data": {
      "image/png": "[encoded data removed]",
      "text/plain": [
       "<Figure size 1440x576 with 1 Axes>"
      ]
     },
     "metadata": {
      "needs_background": "light"
     },
     "output_type": "display_data"
    }
   ],
   "source": [
    "import matplotlib.pyplot as plt\n",
    "\n",
    "plt.figure(figsize = (20,8))\n",
    "plt.title('Distribution of Null values across sensors')\n",
    "df[df.isnull().any(axis = 1)].isnull().sum(axis = 0).hist(bins = 100)\n",
    "plt.xlabel('Missing Values')\n",
    "plt.ylabel('Number of sensors')\n",
    "plt.show()"
   ]
  },
  {
   "cell_type": "markdown",
   "metadata": {},
   "source": [
    "This particular dataset does not have null values. However, it must be noted that null values **must** be imputed prior to training DCRNN. \n",
    "\n",
    "Popular time series null value imputation techniques can be found below \n",
    "\n",
    "https://otexts.com/fpp2/missing-outliers.html"
   ]
  },
  {
   "cell_type": "markdown",
   "metadata": {},
   "source": [
    "# Data generation"
   ]
  },
  {
   "cell_type": "markdown",
   "metadata": {},
   "source": [
    "<p> While DCRNN is a graph convolution, it still relys on a sequence to sequence architechture to learn temporal characteristics.\n",
    "The underlying method takes the dataframe of sensors with speed values over time and breaks it down into sequence to sequnce steps, based on the horizon defined\n",
    "</p>"
   ]
  },
  {
   "cell_type": "markdown",
   "metadata": {},
   "source": [
    "DCRNN, the supervised training model expects an x and a y tensor of the following dimensions\n",
    "\n",
    "Input/ Encoder sequence\n",
    "\n",
    "    - Epoch size  (Number of training sequences)\n",
    "    - Input Length \n",
    "    - Number of Nodes (The number of nodes in the graph , equivalent to the adjacency matrix)\n",
    "    - Input dimension (Number of features per node, in this case speed, time of day, etc.)\n",
    "\n",
    "Output/ Decoder sequence (Number of training sequences)\n",
    "\n",
    "    - Epoch size  (Number of training sequences)\n",
    "    - Output Length (Often equal to the horizon)\n",
    "    - Number of Nodes (The number of nodes in the graph , equivalent to the adjacency matrix)\n",
    "    - Output dimension (Number of output features per node, in this case speed)"
   ]
  },
  {
   "cell_type": "code",
   "execution_count": 22,
   "metadata": {},
   "outputs": [],
   "source": [
    "import numpy as np\n",
    "import os\n",
    "\n",
    "def generate_graph_seq2seq_io_data(df, x_offsets, y_offsets, add_time_in_day=False, add_day_in_week=False):\n",
    "    \"\"\"\n",
    "    This method generates data in the sequence to sequence format expected by DCRNN. \n",
    "    \n",
    "    It also consists of additional functionality of adding temporal features like Time of day and Day of week, \n",
    "    which can be ignored if required. \n",
    "    \n",
    "    :param df: DataFrame of nodes and time series.\n",
    "    \n",
    "    :param x_offsets: Offsets derived from the horizon.  \n",
    "    :param y_offsets: \n",
    "\n",
    "    :param add_time_in_day: (OPTIONAL) add temporal feature time in the day.\n",
    "    :param add_day_in_week: (OPTIONAL) add temporal feature day in the week. \n",
    "\n",
    "    \n",
    "    :return:\n",
    "    # x: (epoch_size, input_length, num_nodes, input_dim)\n",
    "    # y: (epoch_size, output_length, num_nodes, output_dim)\n",
    "    \"\"\"\n",
    "\n",
    "    num_samples, num_nodes = df.shape\n",
    "    data = np.expand_dims(df.values, axis=-1)\n",
    "    data_list = [data]\n",
    "    \n",
    "    # Can be replaced with any features you like. \n",
    "    \n",
    "    if add_time_in_day:\n",
    "        time_ind = (df.index.values - df.index.values.astype(\"datetime64[D]\")) / np.timedelta64(1, \"D\")\n",
    "        time_in_day = np.tile(time_ind, [1, num_nodes, 1]).transpose((2, 1, 0))\n",
    "        data_list.append(time_in_day)\n",
    "    \n",
    "    if add_day_in_week:\n",
    "        day_in_week = np.zeros(shape=(num_samples, num_nodes, 7))\n",
    "        day_in_week[np.arange(num_samples), :, df.index.dayofweek] = 1\n",
    "        data_list.append(day_in_week)\n",
    "\n",
    "    data = np.concatenate(data_list, axis=-1)\n",
    "    \n",
    "    x, y = [], []\n",
    "    # t is the index of the last observation.\n",
    "    min_t = abs(min(x_offsets))\n",
    "    max_t = abs(num_samples - abs(max(y_offsets)))  # Exclusive\n",
    "    \n",
    "    for t in range(min_t, max_t):\n",
    "        x_t = data[t + x_offsets, ...]\n",
    "        y_t = data[t + y_offsets, ...]\n",
    "        x.append(x_t)\n",
    "        y.append(y_t)\n",
    "    x = np.stack(x, axis=0)\n",
    "    y = np.stack(y, axis=0)\n",
    "    \n",
    "    return x, y"
   ]
  },
  {
   "cell_type": "markdown",
   "metadata": {},
   "source": [
    "Since DCRNN is about spatial and also temporal forecasting, we must specify a sequence length or horizon which determines how far we want to predict in the future."
   ]
  },
  {
   "cell_type": "code",
   "execution_count": 23,
   "metadata": {},
   "outputs": [],
   "source": [
    "# Number corresponding to how far you want to predict in the future. \n",
    "\n",
    "horizon = 12\n",
    "\n",
    "percent_train = 0.8\n",
    "percent_test = 0.2"
   ]
  },
  {
   "cell_type": "markdown",
   "metadata": {},
   "source": [
    "Since we want to predict one hour into the future, and our data constitutes of speeds at 5 minute intervals, we select our horizon to be 12"
   ]
  },
  {
   "cell_type": "markdown",
   "metadata": {},
   "source": [
    "### 1. Create offsets for input and output"
   ]
  },
  {
   "cell_type": "code",
   "execution_count": 24,
   "metadata": {},
   "outputs": [],
   "source": [
    "x_offsets = np.sort(\n",
    "\n",
    "    np.concatenate((np.arange(-(horizon-1), 1, 1),))\n",
    ")\n",
    "\n",
    "# Predict until the horizon\n",
    "y_offsets = np.sort(np.arange(1, (horizon + 1), 1))"
   ]
  },
  {
   "cell_type": "code",
   "execution_count": 25,
   "metadata": {},
   "outputs": [
    {
     "data": {
      "text/plain": [
       "array([-11, -10,  -9,  -8,  -7,  -6,  -5,  -4,  -3,  -2,  -1,   0])"
      ]
     },
     "execution_count": 25,
     "metadata": {},
     "output_type": "execute_result"
    }
   ],
   "source": [
    "x_offsets"
   ]
  },
  {
   "cell_type": "code",
   "execution_count": 26,
   "metadata": {},
   "outputs": [
    {
     "data": {
      "text/plain": [
       "array([ 1,  2,  3,  4,  5,  6,  7,  8,  9, 10, 11, 12])"
      ]
     },
     "execution_count": 26,
     "metadata": {},
     "output_type": "execute_result"
    }
   ],
   "source": [
    "y_offsets"
   ]
  },
  {
   "cell_type": "markdown",
   "metadata": {},
   "source": [
    "### 2. Generate sequences of data using defined offsets"
   ]
  },
  {
   "cell_type": "code",
   "execution_count": 27,
   "metadata": {},
   "outputs": [
    {
     "name": "stdout",
     "output_type": "stream",
     "text": [
      "x shape:  (52093, 12, 325, 1) , y shape:  (52093, 12, 325, 1)\n"
     ]
    }
   ],
   "source": [
    "# x: (num_samples, input_length, num_nodes, input_dim)\n",
    "# y: (num_samples, output_length, num_nodes, output_dim)\n",
    "\n",
    "x, y = generate_graph_seq2seq_io_data(\n",
    "    df,\n",
    "    x_offsets=x_offsets,\n",
    "    y_offsets=y_offsets,\n",
    "    add_time_in_day=False,\n",
    "    add_day_in_week=False,\n",
    ")\n",
    "\n",
    "print(\"x shape: \", x.shape, \", y shape: \", y.shape)\n",
    "\n",
    "# Write the data into .npz file."
   ]
  },
  {
   "cell_type": "markdown",
   "metadata": {},
   "source": [
    "### 3. Split sequences train test and val"
   ]
  },
  {
   "cell_type": "code",
   "execution_count": 28,
   "metadata": {},
   "outputs": [],
   "source": [
    "# Calculate number of samples \n",
    "\n",
    "num_samples = x.shape[0]\n",
    "\n",
    "# For the rest: 7/8 is used for training, and 1/8 is used for validation.\n",
    "\n",
    "num_test = round(num_samples * percent_test)\n",
    "num_train = round(num_samples * (percent_train - 0.1))\n",
    "num_val = num_samples - num_test - num_train"
   ]
  },
  {
   "cell_type": "code",
   "execution_count": 29,
   "metadata": {},
   "outputs": [],
   "source": [
    "# Generate train test and validation data and write to the output directory for the model to fetch.\n",
    "\n",
    "x_train, y_train = x[:num_train], y[:num_train]\n",
    "\n",
    "x_val, y_val = (\n",
    "    x[num_train: num_train + num_val],\n",
    "    y[num_train: num_train + num_val],\n",
    ")\n",
    "\n",
    "x_test, y_test = x[-num_test:], y[-num_test:]"
   ]
  },
  {
   "cell_type": "markdown",
   "metadata": {},
   "source": [
    "### 4. Write to an output directory"
   ]
  },
  {
   "cell_type": "code",
   "execution_count": null,
   "metadata": {},
   "outputs": [
    {
     "name": "stdout",
     "output_type": "stream",
     "text": [
      "train x:  (36465, 12, 325, 1) y: (36465, 12, 325, 1)\n",
      "val x:  (5209, 12, 325, 1) y: (5209, 12, 325, 1)\n",
      "test x:  (10419, 12, 325, 1) y: (10419, 12, 325, 1)\n"
     ]
    }
   ],
   "source": [
    "out_dir = 'traffic' # Make sure this directory is made before\n",
    "datasets = {}\n",
    "\n",
    "for cat in [\"train\", \"val\", \"test\"]:\n",
    "    _x, _y = locals()[\"x_\" + cat], locals()[\"y_\" + cat]\n",
    "\n",
    "    print(cat, \"x: \", _x.shape, \"y:\", _y.shape)\n",
    "\n",
    "    np.savez_compressed(\n",
    "        os.path.join(out_dir, \"%s.npz\" % cat),\n",
    "        x=_x,\n",
    "        y=_y,\n",
    "        x_offsets=x_offsets.reshape(list(x_offsets.shape) + [1]),\n",
    "        y_offsets=y_offsets.reshape(list(y_offsets.shape) + [1]),\n",
    "    )\n",
    "    datasets[\"x_\" + cat] = _x\n",
    "    datasets[\"y_\" + cat] = _y"
   ]
  },
  {
   "cell_type": "markdown",
   "metadata": {},
   "source": [
    "# FINAL STEP - Train newly created data!"
   ]
  },
  {
   "cell_type": "code",
   "execution_count": null,
   "metadata": {},
   "outputs": [],
   "source": []
  }
 ],
 "metadata": {
  "kernelspec": {
   "display_name": "Python 3",
   "language": "python",
   "name": "python3"
  },
  "language_info": {
   "codemirror_mode": {
    "name": "ipython",
    "version": 3
   },
   "file_extension": ".py",
   "mimetype": "text/x-python",
   "name": "python",
   "nbconvert_exporter": "python",
   "pygments_lexer": "ipython3",
   "version": "3.7.4"
  }
 },
 "nbformat": 4,
 "nbformat_minor": 2
}
