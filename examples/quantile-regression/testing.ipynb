{
 "cells": [
  {
   "cell_type": "code",
   "execution_count": 4,
   "id": "15a3df64-25e4-48ae-993a-a9d1227eca66",
   "metadata": {},
   "outputs": [],
   "source": [
    "import torch"
   ]
  },
  {
   "cell_type": "code",
   "execution_count": 6,
   "id": "f2442355-0158-456b-b7af-38fe71bad745",
   "metadata": {},
   "outputs": [],
   "source": [
    "from torchts.nn.loss import quantile_loss"
   ]
  },
  {
   "cell_type": "code",
   "execution_count": null,
   "id": "268a3911-c52d-4be6-b433-0de658d2bd9b",
   "metadata": {},
   "outputs": [],
   "source": []
  }
 ],
 "metadata": {
  "kernelspec": {
   "display_name": "spatiotemporal",
   "language": "python",
   "name": "spatiotemporal"
  },
  "language_info": {
   "codemirror_mode": {
    "name": "ipython",
    "version": 3
   },
   "file_extension": ".py",
   "mimetype": "text/x-python",
   "name": "python",
   "nbconvert_exporter": "python",
   "pygments_lexer": "ipython3",
   "version": "3.9.7"
  }
 },
 "nbformat": 4,
 "nbformat_minor": 5
}
